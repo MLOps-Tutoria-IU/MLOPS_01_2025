{
 "cells": [
  {
   "cell_type": "markdown",
   "id": "fbd79dc7",
   "metadata": {},
   "source": [
    "# Tarefas para estudo sobre Deploy"
   ]
  },
  {
   "cell_type": "markdown",
   "id": "baa62ca6",
   "metadata": {},
   "source": [
    "## Estudo teórico\n",
    "\n",
    "Faça um resumo de uma página sobre o artigo abaixo:\n",
    "\n",
    "https://cloud.google.com/architecture/mlops-continuous-delivery-and-automation-pipelines-in-machine-learning\n"
   ]
  },
  {
   "cell_type": "markdown",
   "id": "a3ebee7d",
   "metadata": {},
   "source": [
    "## Estudo prático"
   ]
  },
  {
   "cell_type": "markdown",
   "id": "911b82b3",
   "metadata": {},
   "source": [
    "1. Monte um serviço usando Flask ou FastAPI para servir o modelo de classificação de imagem e coloque ele dentro de um container Docker.\n",
    "2. Quais testes unitários você montaria para essa aplicação? O que você usaria do mocks?\n"
   ]
  },
  {
   "cell_type": "markdown",
   "id": "b46637a5",
   "metadata": {},
   "source": []
  }
 ],
 "metadata": {
  "language_info": {
   "name": "python"
  }
 },
 "nbformat": 4,
 "nbformat_minor": 5
}
