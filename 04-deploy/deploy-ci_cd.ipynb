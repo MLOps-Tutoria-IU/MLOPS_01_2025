{
  "cells": [
    {
      "cell_type": "markdown",
      "id": "fbd79dc7",
      "metadata": {
        "id": "fbd79dc7"
      },
      "source": [
        "# Deploy e Serving de Modelos"
      ]
    },
    {
      "cell_type": "markdown",
      "id": "26cec9e3",
      "metadata": {
        "id": "26cec9e3"
      },
      "source": [
        "\n",
        "## Objetivo\n",
        "1. Apresentar como fazer o empacotamento de aplicações de IA dentro de um container Docker"
      ]
    },
    {
      "cell_type": "code",
      "execution_count": 2,
      "id": "FmuTEUxu6A-6",
      "metadata": {
        "id": "FmuTEUxu6A-6"
      },
      "outputs": [
        {
          "name": "stdout",
          "output_type": "stream",
          "text": [
            "\u001b[1A\u001b[1B\u001b[0G\u001b[?25l[+] Building 0.0s (0/0)  docker:desktop-linux\n",
            "\u001b[?25h\u001b[1A\u001b[0G\u001b[?25l[+] Building 0.0s (0/1)                                    docker:desktop-linux\n",
            "\u001b[?25h\u001b[1A\u001b[0G\u001b[?25l[+] Building 0.1s (1/3)                                    docker:desktop-linux\n",
            "\u001b[34m => [internal] load build definition from Dockerfile                       0.0s\n",
            "\u001b[0m\u001b[34m => => transferring dockerfile: 361B                                       0.0s\n",
            "\u001b[0m => [internal] load metadata for docker.io/library/amazonlinux:latest      0.1s\n",
            " => [auth] library/amazonlinux:pull token for registry-1.docker.io         0.0s\n",
            "\u001b[?25h\u001b[1A\u001b[1A\u001b[1A\u001b[1A\u001b[1A\u001b[0G\u001b[?25l[+] Building 0.3s (2/3)                                    docker:desktop-linux\n",
            "\u001b[34m => [internal] load build definition from Dockerfile                       0.0s\n",
            "\u001b[0m\u001b[34m => => transferring dockerfile: 361B                                       0.0s\n",
            "\u001b[0m => [internal] load metadata for docker.io/library/amazonlinux:latest      0.3s\n",
            "\u001b[34m => [auth] library/amazonlinux:pull token for registry-1.docker.io         0.0s\n",
            "\u001b[0m\u001b[?25h\u001b[1A\u001b[1A\u001b[1A\u001b[1A\u001b[1A\u001b[0G\u001b[?25l[+] Building 0.4s (2/3)                                    docker:desktop-linux\n",
            "\u001b[34m => [internal] load build definition from Dockerfile                       0.0s\n",
            "\u001b[0m\u001b[34m => => transferring dockerfile: 361B                                       0.0s\n",
            "\u001b[0m => [internal] load metadata for docker.io/library/amazonlinux:latest      0.4s\n",
            "\u001b[34m => [auth] library/amazonlinux:pull token for registry-1.docker.io         0.0s\n",
            "\u001b[0m\u001b[?25h\u001b[1A\u001b[1A\u001b[1A\u001b[1A\u001b[1A\u001b[0G\u001b[?25l[+] Building 0.6s (2/3)                                    docker:desktop-linux\n",
            "\u001b[34m => [internal] load build definition from Dockerfile                       0.0s\n",
            "\u001b[0m\u001b[34m => => transferring dockerfile: 361B                                       0.0s\n",
            "\u001b[0m => [internal] load metadata for docker.io/library/amazonlinux:latest      0.6s\n",
            "\u001b[34m => [auth] library/amazonlinux:pull token for registry-1.docker.io         0.0s\n",
            "\u001b[0m\u001b[?25h\u001b[1A\u001b[1A\u001b[1A\u001b[1A\u001b[1A\u001b[0G\u001b[?25l[+] Building 0.7s (2/3)                                    docker:desktop-linux\n",
            "\u001b[34m => [internal] load build definition from Dockerfile                       0.0s\n",
            "\u001b[0m\u001b[34m => => transferring dockerfile: 361B                                       0.0s\n",
            "\u001b[0m => [internal] load metadata for docker.io/library/amazonlinux:latest      0.7s\n",
            "\u001b[34m => [auth] library/amazonlinux:pull token for registry-1.docker.io         0.0s\n",
            "\u001b[0m\u001b[?25h\u001b[1A\u001b[1A\u001b[1A\u001b[1A\u001b[1A\u001b[0G\u001b[?25l[+] Building 0.9s (2/3)                                    docker:desktop-linux\n",
            "\u001b[34m => [internal] load build definition from Dockerfile                       0.0s\n",
            "\u001b[0m\u001b[34m => => transferring dockerfile: 361B                                       0.0s\n",
            "\u001b[0m => [internal] load metadata for docker.io/library/amazonlinux:latest      0.9s\n",
            "\u001b[34m => [auth] library/amazonlinux:pull token for registry-1.docker.io         0.0s\n",
            "\u001b[0m\u001b[?25h\u001b[1A\u001b[1A\u001b[1A\u001b[1A\u001b[1A\u001b[0G\u001b[?25l[+] Building 1.0s (2/3)                                    docker:desktop-linux\n",
            "\u001b[34m => [internal] load build definition from Dockerfile                       0.0s\n",
            "\u001b[0m\u001b[34m => => transferring dockerfile: 361B                                       0.0s\n",
            "\u001b[0m => [internal] load metadata for docker.io/library/amazonlinux:latest      1.0s\n",
            "\u001b[34m => [auth] library/amazonlinux:pull token for registry-1.docker.io         0.0s\n",
            "\u001b[0m\u001b[?25h\u001b[1A\u001b[1A\u001b[1A\u001b[1A\u001b[1A\u001b[0G\u001b[?25l[+] Building 1.2s (3/3)                                    docker:desktop-linux\n",
            "\u001b[34m => [internal] load build definition from Dockerfile                       0.0s\n",
            "\u001b[0m\u001b[34m => => transferring dockerfile: 361B                                       0.0s\n",
            "\u001b[0m\u001b[34m => [internal] load metadata for docker.io/library/amazonlinux:latest      1.2s\n",
            "\u001b[0m\u001b[34m => [auth] library/amazonlinux:pull token for registry-1.docker.io         0.0s\n",
            "\u001b[0m\u001b[?25h\u001b[1A\u001b[1A\u001b[1A\u001b[1A\u001b[1A\u001b[0G\u001b[?25l[+] Building 1.3s (10/10) FINISHED                         docker:desktop-linux\n",
            "\u001b[34m => [internal] load build definition from Dockerfile                       0.0s\n",
            "\u001b[0m\u001b[34m => => transferring dockerfile: 361B                                       0.0s\n",
            "\u001b[0m\u001b[34m => [internal] load metadata for docker.io/library/amazonlinux:latest      1.2s\n",
            "\u001b[0m\u001b[34m => [auth] library/amazonlinux:pull token for registry-1.docker.io         0.0s\n",
            "\u001b[0m\u001b[34m => [internal] load .dockerignore                                          0.0s\n",
            "\u001b[0m\u001b[34m => => transferring context: 2B                                            0.0s\n",
            "\u001b[0m\u001b[34m => [base 1/2] FROM docker.io/library/amazonlinux:latest@sha256:04ff8139d  0.0s\n",
            "\u001b[0m\u001b[34m => => resolve docker.io/library/amazonlinux:latest@sha256:04ff8139d7f2d9  0.0s\n",
            "\u001b[0m\u001b[34m => [internal] load build context                                          0.0s\n",
            "\u001b[0m\u001b[34m => => transferring context: 944B                                          0.0s\n",
            "\u001b[0m\u001b[34m => CACHED [base 2/2] RUN yum install -y python3.11 &&     ln -sf /usr/bi  0.0s\n",
            "\u001b[0m\u001b[34m => CACHED [build 1/2] COPY src /src                                       0.0s\n",
            "\u001b[0m\u001b[34m => CACHED [build 2/2] RUN pip install -r /src/requirements.txt            0.0s\n",
            "\u001b[0m\u001b[34m => exporting to image                                                     0.0s\n",
            "\u001b[0m\u001b[34m => => exporting layers                                                    0.0s\n",
            "\u001b[0m\u001b[34m => => exporting manifest sha256:e4f20dbd5e511ebb87b80526f1ab3d3427136d63  0.0s\n",
            "\u001b[0m\u001b[34m => => exporting config sha256:b3245e8db90bc3c3380649fe070db469378381068d  0.0s\n",
            "\u001b[0m\u001b[34m => => exporting attestation manifest sha256:defd9435937ee27b602678641019  0.0s\n",
            "\u001b[0m\u001b[34m => => exporting manifest list sha256:7e08ecacb586dc8f41d26a722e46e7fb7dd  0.0s\n",
            "\u001b[0m\u001b[34m => => naming to docker.io/library/app-deploy:latest                       0.0s\n",
            "\u001b[0m\u001b[34m => => unpacking to docker.io/library/app-deploy:latest                    0.0s\n",
            "\u001b[0m\u001b[?25h\u001b[1m\n",
            "What's next:\u001b[0m\n",
            "    View a summary of image vulnerabilities and recommendations → \u001b[36mdocker scout quickview \u001b[0m\n"
          ]
        }
      ],
      "source": [
        "# Vamos buildar a nossa aplicação\n",
        "!docker build app/ -t app-deploy"
      ]
    },
    {
      "cell_type": "code",
      "execution_count": 3,
      "id": "8b378244",
      "metadata": {},
      "outputs": [
        {
          "name": "stdout",
          "output_type": "stream",
          "text": [
            "Using a slow image processor as `use_fast` is unset and a slow processor was saved with this model. `use_fast=True` will be the default behavior in v4.52, even if the model was saved with a slow processor. This will result in minor differences in outputs. You'll still be able to use a slow processor with `use_fast=False`.\n",
            "Generating train split: 100%|██████████| 23410/23410 [00:01<00:00, 17587.65 examples/s]\n",
            "tensor([277, 281, 281, 281, 332, 285, 284, 281, 285, 281])\n"
          ]
        }
      ],
      "source": [
        "!docker run app-deploy"
      ]
    },
    {
      "cell_type": "code",
      "execution_count": null,
      "id": "c8b62868",
      "metadata": {},
      "outputs": [],
      "source": [
        "# Vamos inspecionar o container ;)"
      ]
    }
  ],
  "metadata": {
    "accelerator": "GPU",
    "colab": {
      "gpuType": "T4",
      "provenance": []
    },
    "kernelspec": {
      "display_name": "Python 3",
      "name": "python3"
    },
    "language_info": {
      "codemirror_mode": {
        "name": "ipython",
        "version": 3
      },
      "file_extension": ".py",
      "mimetype": "text/x-python",
      "name": "python",
      "nbconvert_exporter": "python",
      "pygments_lexer": "ipython3",
      "version": "3.11.5"
    }
  },
  "nbformat": 4,
  "nbformat_minor": 5
}
