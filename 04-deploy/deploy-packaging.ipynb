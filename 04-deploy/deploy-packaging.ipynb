{
  "cells": [
    {
      "cell_type": "markdown",
      "id": "fbd79dc7",
      "metadata": {
        "id": "fbd79dc7"
      },
      "source": [
        "# Deploy e Serving de Modelos"
      ]
    },
    {
      "cell_type": "markdown",
      "id": "26cec9e3",
      "metadata": {
        "id": "26cec9e3"
      },
      "source": [
        "\n",
        "## Objetivo\n",
        "1. Apresentar como fazer o empacotamento de aplicações de IA dentro de um container Docker"
      ]
    },
    {
      "cell_type": "code",
      "execution_count": null,
      "id": "FmuTEUxu6A-6",
      "metadata": {
        "id": "FmuTEUxu6A-6"
      },
      "outputs": [],
      "source": [
        "# Vamos buildar a nossa aplicação\n",
        "!docker build app/ -t app-deploy"
      ]
    },
    {
      "cell_type": "code",
      "execution_count": null,
      "id": "8b378244",
      "metadata": {},
      "outputs": [],
      "source": [
        "!docker run --rm app-deploy"
      ]
    },
    {
      "cell_type": "code",
      "execution_count": null,
      "id": "c8b62868",
      "metadata": {},
      "outputs": [],
      "source": [
        "# Vamos inspecionar o container ;)"
      ]
    }
  ],
  "metadata": {
    "accelerator": "GPU",
    "colab": {
      "gpuType": "T4",
      "provenance": []
    },
    "kernelspec": {
      "display_name": "Python 3",
      "name": "python3"
    },
    "language_info": {
      "codemirror_mode": {
        "name": "ipython",
        "version": 3
      },
      "file_extension": ".py",
      "mimetype": "text/x-python",
      "name": "python",
      "nbconvert_exporter": "python",
      "pygments_lexer": "ipython3",
      "version": "3.11.5"
    }
  },
  "nbformat": 4,
  "nbformat_minor": 5
}
