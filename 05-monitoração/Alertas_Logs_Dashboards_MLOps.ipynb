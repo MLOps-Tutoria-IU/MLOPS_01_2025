{
 "cells": [
  {
   "cell_type": "markdown",
   "id": "e61a6b85",
   "metadata": {},
   "source": [
    "# Continuação: Alertas, Logs e Dashboards em MLOps"
   ]
  },
  {
   "cell_type": "markdown",
   "id": "a6ace8f4",
   "metadata": {},
   "source": [
    "\n",
    "## Objetivo\n",
    "1. Demonstrar como configurar alertas para monitorar desempenho do modelo e infraestrutura.\n",
    "2. Adicionar logs detalhados para rastreamento.\n",
    "3. Introduzir ferramentas para visualização de dashboards.\n",
    "\n",
    "## Bibliotecas Necessárias\n",
    "    "
   ]
  },
  {
   "cell_type": "code",
   "execution_count": null,
   "id": "ccf7aefb",
   "metadata": {},
   "outputs": [],
   "source": [
    "\n",
    "import logging\n",
    "import random\n",
    "import time\n",
    "\n",
    "# Configurando o logger\n",
    "logging.basicConfig(level=logging.INFO, format='%(asctime)s - %(levelname)s - %(message)s')\n",
    "logger = logging.getLogger(__name__)\n",
    "    "
   ]
  },
  {
   "cell_type": "markdown",
   "id": "ce9df861",
   "metadata": {},
   "source": [
    "## Criando Alertas (Simulações e Comentários)"
   ]
  },
  {
   "cell_type": "code",
   "execution_count": null,
   "id": "83ff8b4a",
   "metadata": {},
   "outputs": [],
   "source": [
    "\n",
    "# Simulação de alerta baseado no desempenho do modelo\n",
    "def alerta_variacao_desempenho(metrica_atual, metrica_esperada):\n",
    "    if abs(metrica_atual - metrica_esperada) > 0.05:\n",
    "        logger.warning(f\"Desempenho fora do esperado! Métrica Atual: {metrica_atual:.2f}, Esperada: {metrica_esperada:.2f}\")\n",
    "\n",
    "# Simulação de alerta baseado no uso da infraestrutura\n",
    "def alerta_uso_cpu(cpu_uso_atual):\n",
    "    if cpu_uso_atual > 80:  # 80% de uso de CPU\n",
    "        logger.warning(f\"Uso elevado de CPU detectado! CPU Atual: {cpu_uso_atual}%\")\n",
    "\n",
    "# Testando os alertas (simulações)\n",
    "metrica_esperada = 0.90\n",
    "for _ in range(5):  # Simular 5 iterações\n",
    "    metrica_atual = random.uniform(0.80, 0.95)  # Métrica variando entre 80% e 95%\n",
    "    alerta_variacao_desempenho(metrica_atual, metrica_esperada)\n",
    "\n",
    "    cpu_uso_atual = random.randint(50, 100)  # Uso de CPU entre 50% e 100%\n",
    "    alerta_uso_cpu(cpu_uso_atual)\n",
    "    "
   ]
  },
  {
   "cell_type": "markdown",
   "id": "b5e00912",
   "metadata": {},
   "source": [
    "\n",
    "### Comentários sobre Alertas\n",
    "- **Alertas de desempenho** ajudam a identificar variações inesperadas nos resultados dos modelos, como quedas na acurácia ou aumento nos tempos de inferência.\n",
    "- **Alertas de infraestrutura** são críticos para evitar gargalos ou sobrecarga de recursos, como uso elevado de CPU, memória ou tempo de resposta.\n",
    "    "
   ]
  },
  {
   "cell_type": "markdown",
   "id": "233a7b8b",
   "metadata": {},
   "source": [
    "## Adicionando Logs Detalhados"
   ]
  },
  {
   "cell_type": "code",
   "execution_count": null,
   "id": "7c4a6169",
   "metadata": {},
   "outputs": [],
   "source": [
    "\n",
    "# Exemplo de log durante inferência\n",
    "def log_inferencia(entrada, previsao, tempo_processamento):\n",
    "    logger.info(f\"Entrada: {entrada} - Previsão: {previsao} - Tempo: {tempo_processamento:.4f}s\")\n",
    "\n",
    "# Simulação de inferência com logs\n",
    "for i in range(5):  # Simular 5 inferências\n",
    "    entrada_simulada = f\"Amostra-{i}\"\n",
    "    previsao_simulada = random.choice([\"Classe A\", \"Classe B\"])\n",
    "    tempo_processamento = random.uniform(0.01, 0.05)  # Tempo entre 10ms e 50ms\n",
    "    \n",
    "    log_inferencia(entrada_simulada, previsao_simulada, tempo_processamento)\n",
    "    time.sleep(0.5)  # Simular intervalo entre inferências\n",
    "    "
   ]
  },
  {
   "cell_type": "markdown",
   "id": "78dc0f01",
   "metadata": {},
   "source": [
    "\n",
    "### Comentários sobre Logs\n",
    "- Logs claros ajudam a identificar problemas rapidamente, como entradas incorretas ou previsões inesperadas.\n",
    "- Informações úteis incluem **dados de entrada**, **resultados previstos**, **tempo de processamento**, e **mensagens de erro**.\n",
    "    "
   ]
  },
  {
   "cell_type": "markdown",
   "id": "e459c322",
   "metadata": {},
   "source": [
    "## Visualizando Dashboards"
   ]
  },
  {
   "cell_type": "code",
   "execution_count": null,
   "id": "4dd47c75",
   "metadata": {},
   "outputs": [],
   "source": [
    "\n",
    "# Ferramentas populares para Dashboards em MLOps:\n",
    "# 1. Grafana - Para monitorar métricas em tempo real com Prometheus.\n",
    "# 2. Kibana - Para visualizar logs armazenados no Elasticsearch.\n",
    "# 3. Streamlit ou Dash - Para criar dashboards interativos com Python.\n",
    "\n",
    "# Simulação de um gráfico de desempenho do modelo com matplotlib\n",
    "import matplotlib.pyplot as plt\n",
    "\n",
    "# Dados simulados\n",
    "epocas = list(range(1, 11))\n",
    "acuracias = [random.uniform(0.85, 0.95) for _ in epocas]\n",
    "tempos_inferencia = [random.uniform(0.02, 0.05) for _ in epocas]\n",
    "\n",
    "# Gráfico de desempenho\n",
    "plt.figure(figsize=(10, 5))\n",
    "plt.plot(epocas, acuracias, label='Acurácia', marker='o')\n",
    "plt.plot(epocas, tempos_inferencia, label='Tempo de Inferência (s)', marker='o')\n",
    "plt.xlabel(\"Épocas\")\n",
    "plt.ylabel(\"Valores\")\n",
    "plt.title(\"Desempenho do Modelo\")\n",
    "plt.legend()\n",
    "plt.grid(True)\n",
    "plt.show()\n",
    "    "
   ]
  },
  {
   "cell_type": "markdown",
   "id": "6fdbece1",
   "metadata": {},
   "source": [
    "\n",
    "### Comentários sobre Dashboards\n",
    "- Dashboards facilitam o monitoramento contínuo de métricas como acurácia, tempos de inferência, e uso de recursos.\n",
    "- Ferramentas como **Grafana** e **Streamlit** podem ser integradas a pipelines de MLOps para visualizações personalizadas e acessíveis.\n",
    "    "
   ]
  }
 ],
 "metadata": {},
 "nbformat": 4,
 "nbformat_minor": 5
}
